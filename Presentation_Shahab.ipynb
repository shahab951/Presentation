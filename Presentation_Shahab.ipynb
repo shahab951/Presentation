{
 "cells": [
  {
   "cell_type": "code",
   "execution_count": 1,
   "id": "77b15a37",
   "metadata": {},
   "outputs": [],
   "source": [
    "import numpy as np\n",
    "import pandas as pd\n",
    "import matplotlib.pyplot as plt\n",
    "import seaborn as sns\n",
    "from sklearn.linear_model import LinearRegression"
   ]
  },
  {
   "cell_type": "code",
   "execution_count": 2,
   "id": "c8420984",
   "metadata": {},
   "outputs": [],
   "source": [
    "filepath='C:/Users/shaha/Desktop/Springboard/DataScience_Capstone2/Datasets/Dataset_Real Estate_New York/nyc-rolling-sales.csv'\n",
    "dfi=pd.read_csv(filepath)"
   ]
  },
  {
   "cell_type": "code",
   "execution_count": 6,
   "id": "4aa7b6a7",
   "metadata": {},
   "outputs": [
    {
     "data": {
      "text/plain": [
       "Unnamed: 0                        0\n",
       "BUILDING CLASS AT TIME OF SALE    0\n",
       "TAX CLASS AT TIME OF SALE         0\n",
       "YEAR BUILT                        0\n",
       "GROSS SQUARE FEET                 0\n",
       "LAND SQUARE FEET                  0\n",
       "TOTAL UNITS                       0\n",
       "COMMERCIAL UNITS                  0\n",
       "RESIDENTIAL UNITS                 0\n",
       "ZIP CODE                          0\n",
       "APARTMENT NUMBER                  0\n",
       "ADDRESS                           0\n",
       "BUILDING CLASS AT PRESENT         0\n",
       "EASE-MENT                         0\n",
       "LOT                               0\n",
       "BLOCK                             0\n",
       "TAX CLASS AT PRESENT              0\n",
       "BUILDING CLASS CATEGORY           0\n",
       "NEIGHBORHOOD                      0\n",
       "BOROUGH                           0\n",
       "SALE PRICE                        0\n",
       "SALE DATE                         0\n",
       "dtype: int64"
      ]
     },
     "execution_count": 6,
     "metadata": {},
     "output_type": "execute_result"
    }
   ],
   "source": [
    "#Checking null values\n",
    "dfi.isna().sum().sort_values()"
   ]
  },
  {
   "cell_type": "code",
   "execution_count": 8,
   "id": "847c63f4",
   "metadata": {},
   "outputs": [
    {
     "data": {
      "text/html": [
       "<div>\n",
       "<style scoped>\n",
       "    .dataframe tbody tr th:only-of-type {\n",
       "        vertical-align: middle;\n",
       "    }\n",
       "\n",
       "    .dataframe tbody tr th {\n",
       "        vertical-align: top;\n",
       "    }\n",
       "\n",
       "    .dataframe thead th {\n",
       "        text-align: right;\n",
       "    }\n",
       "</style>\n",
       "<table border=\"1\" class=\"dataframe\">\n",
       "  <thead>\n",
       "    <tr style=\"text-align: right;\">\n",
       "      <th></th>\n",
       "      <th>BOROUGH</th>\n",
       "      <th>NEIGHBORHOOD</th>\n",
       "      <th>BUILDING CLASS CATEGORY</th>\n",
       "      <th>TAX CLASS AT PRESENT</th>\n",
       "      <th>BLOCK</th>\n",
       "      <th>LOT</th>\n",
       "      <th>EASE-MENT</th>\n",
       "      <th>BUILDING CLASS AT PRESENT</th>\n",
       "      <th>ADDRESS</th>\n",
       "      <th>APARTMENT NUMBER</th>\n",
       "      <th>...</th>\n",
       "      <th>RESIDENTIAL UNITS</th>\n",
       "      <th>COMMERCIAL UNITS</th>\n",
       "      <th>TOTAL UNITS</th>\n",
       "      <th>LAND SQUARE FEET</th>\n",
       "      <th>GROSS SQUARE FEET</th>\n",
       "      <th>YEAR BUILT</th>\n",
       "      <th>TAX CLASS AT TIME OF SALE</th>\n",
       "      <th>BUILDING CLASS AT TIME OF SALE</th>\n",
       "      <th>SALE PRICE</th>\n",
       "      <th>SALE DATE</th>\n",
       "    </tr>\n",
       "  </thead>\n",
       "  <tbody>\n",
       "    <tr>\n",
       "      <th>0</th>\n",
       "      <td>1</td>\n",
       "      <td>ALPHABET CITY</td>\n",
       "      <td>07 RENTALS - WALKUP APARTMENTS</td>\n",
       "      <td>2A</td>\n",
       "      <td>392</td>\n",
       "      <td>6</td>\n",
       "      <td></td>\n",
       "      <td>C2</td>\n",
       "      <td>153 AVENUE B</td>\n",
       "      <td></td>\n",
       "      <td>...</td>\n",
       "      <td>5</td>\n",
       "      <td>0</td>\n",
       "      <td>5</td>\n",
       "      <td>1633</td>\n",
       "      <td>6440</td>\n",
       "      <td>1900</td>\n",
       "      <td>2</td>\n",
       "      <td>C2</td>\n",
       "      <td>6625000</td>\n",
       "      <td>2017-07-19 00:00:00</td>\n",
       "    </tr>\n",
       "    <tr>\n",
       "      <th>1</th>\n",
       "      <td>1</td>\n",
       "      <td>ALPHABET CITY</td>\n",
       "      <td>07 RENTALS - WALKUP APARTMENTS</td>\n",
       "      <td>2</td>\n",
       "      <td>399</td>\n",
       "      <td>26</td>\n",
       "      <td></td>\n",
       "      <td>C7</td>\n",
       "      <td>234 EAST 4TH   STREET</td>\n",
       "      <td></td>\n",
       "      <td>...</td>\n",
       "      <td>28</td>\n",
       "      <td>3</td>\n",
       "      <td>31</td>\n",
       "      <td>4616</td>\n",
       "      <td>18690</td>\n",
       "      <td>1900</td>\n",
       "      <td>2</td>\n",
       "      <td>C7</td>\n",
       "      <td>-</td>\n",
       "      <td>2016-12-14 00:00:00</td>\n",
       "    </tr>\n",
       "    <tr>\n",
       "      <th>2</th>\n",
       "      <td>1</td>\n",
       "      <td>ALPHABET CITY</td>\n",
       "      <td>07 RENTALS - WALKUP APARTMENTS</td>\n",
       "      <td>2</td>\n",
       "      <td>399</td>\n",
       "      <td>39</td>\n",
       "      <td></td>\n",
       "      <td>C7</td>\n",
       "      <td>197 EAST 3RD   STREET</td>\n",
       "      <td></td>\n",
       "      <td>...</td>\n",
       "      <td>16</td>\n",
       "      <td>1</td>\n",
       "      <td>17</td>\n",
       "      <td>2212</td>\n",
       "      <td>7803</td>\n",
       "      <td>1900</td>\n",
       "      <td>2</td>\n",
       "      <td>C7</td>\n",
       "      <td>-</td>\n",
       "      <td>2016-12-09 00:00:00</td>\n",
       "    </tr>\n",
       "    <tr>\n",
       "      <th>3</th>\n",
       "      <td>1</td>\n",
       "      <td>ALPHABET CITY</td>\n",
       "      <td>07 RENTALS - WALKUP APARTMENTS</td>\n",
       "      <td>2B</td>\n",
       "      <td>402</td>\n",
       "      <td>21</td>\n",
       "      <td></td>\n",
       "      <td>C4</td>\n",
       "      <td>154 EAST 7TH STREET</td>\n",
       "      <td></td>\n",
       "      <td>...</td>\n",
       "      <td>10</td>\n",
       "      <td>0</td>\n",
       "      <td>10</td>\n",
       "      <td>2272</td>\n",
       "      <td>6794</td>\n",
       "      <td>1913</td>\n",
       "      <td>2</td>\n",
       "      <td>C4</td>\n",
       "      <td>3936272</td>\n",
       "      <td>2016-09-23 00:00:00</td>\n",
       "    </tr>\n",
       "    <tr>\n",
       "      <th>4</th>\n",
       "      <td>1</td>\n",
       "      <td>ALPHABET CITY</td>\n",
       "      <td>07 RENTALS - WALKUP APARTMENTS</td>\n",
       "      <td>2A</td>\n",
       "      <td>404</td>\n",
       "      <td>55</td>\n",
       "      <td></td>\n",
       "      <td>C2</td>\n",
       "      <td>301 EAST 10TH   STREET</td>\n",
       "      <td></td>\n",
       "      <td>...</td>\n",
       "      <td>6</td>\n",
       "      <td>0</td>\n",
       "      <td>6</td>\n",
       "      <td>2369</td>\n",
       "      <td>4615</td>\n",
       "      <td>1900</td>\n",
       "      <td>2</td>\n",
       "      <td>C2</td>\n",
       "      <td>8000000</td>\n",
       "      <td>2016-11-17 00:00:00</td>\n",
       "    </tr>\n",
       "  </tbody>\n",
       "</table>\n",
       "<p>5 rows × 21 columns</p>\n",
       "</div>"
      ],
      "text/plain": [
       "   BOROUGH   NEIGHBORHOOD                      BUILDING CLASS CATEGORY  \\\n",
       "0        1  ALPHABET CITY  07 RENTALS - WALKUP APARTMENTS                \n",
       "1        1  ALPHABET CITY  07 RENTALS - WALKUP APARTMENTS                \n",
       "2        1  ALPHABET CITY  07 RENTALS - WALKUP APARTMENTS                \n",
       "3        1  ALPHABET CITY  07 RENTALS - WALKUP APARTMENTS                \n",
       "4        1  ALPHABET CITY  07 RENTALS - WALKUP APARTMENTS                \n",
       "\n",
       "  TAX CLASS AT PRESENT  BLOCK  LOT EASE-MENT BUILDING CLASS AT PRESENT  \\\n",
       "0                   2A    392    6                                  C2   \n",
       "1                    2    399   26                                  C7   \n",
       "2                    2    399   39                                  C7   \n",
       "3                   2B    402   21                                  C4   \n",
       "4                   2A    404   55                                  C2   \n",
       "\n",
       "                  ADDRESS APARTMENT NUMBER  ...  RESIDENTIAL UNITS  \\\n",
       "0            153 AVENUE B                   ...                  5   \n",
       "1   234 EAST 4TH   STREET                   ...                 28   \n",
       "2   197 EAST 3RD   STREET                   ...                 16   \n",
       "3     154 EAST 7TH STREET                   ...                 10   \n",
       "4  301 EAST 10TH   STREET                   ...                  6   \n",
       "\n",
       "   COMMERCIAL UNITS  TOTAL UNITS  LAND SQUARE FEET GROSS SQUARE FEET  \\\n",
       "0                 0            5              1633              6440   \n",
       "1                 3           31              4616             18690   \n",
       "2                 1           17              2212              7803   \n",
       "3                 0           10              2272              6794   \n",
       "4                 0            6              2369              4615   \n",
       "\n",
       "  YEAR BUILT  TAX CLASS AT TIME OF SALE  BUILDING CLASS AT TIME OF SALE  \\\n",
       "0       1900                          2                              C2   \n",
       "1       1900                          2                              C7   \n",
       "2       1900                          2                              C7   \n",
       "3       1913                          2                              C4   \n",
       "4       1900                          2                              C2   \n",
       "\n",
       "  SALE PRICE            SALE DATE  \n",
       "0    6625000  2017-07-19 00:00:00  \n",
       "1        -    2016-12-14 00:00:00  \n",
       "2        -    2016-12-09 00:00:00  \n",
       "3    3936272  2016-09-23 00:00:00  \n",
       "4    8000000  2016-11-17 00:00:00  \n",
       "\n",
       "[5 rows x 21 columns]"
      ]
     },
     "execution_count": 8,
     "metadata": {},
     "output_type": "execute_result"
    }
   ],
   "source": [
    "df=dfi; df=df.drop(columns=('Unnamed: 0'), axis=1)\n",
    "df.head()"
   ]
  },
  {
   "cell_type": "code",
   "execution_count": 13,
   "id": "515edd11",
   "metadata": {},
   "outputs": [
    {
     "name": "stdout",
     "output_type": "stream",
     "text": [
      "Column  1 : BOROUGH\n",
      "Column  2 : NEIGHBORHOOD\n",
      "Column  3 : BUILDING CLASS CATEGORY\n",
      "Column  4 : TAX CLASS AT PRESENT\n",
      "Column  5 : BLOCK\n",
      "Column  6 : LOT\n",
      "Column  7 : EASE-MENT\n",
      "Column  8 : BUILDING CLASS AT PRESENT\n",
      "Column  9 : ADDRESS\n",
      "Column  10 : APARTMENT NUMBER\n",
      "Column  11 : ZIP CODE\n",
      "Column  12 : RESIDENTIAL UNITS\n",
      "Column  13 : COMMERCIAL UNITS\n",
      "Column  14 : TOTAL UNITS\n",
      "Column  15 : LAND SQUARE FEET\n",
      "Column  16 : GROSS SQUARE FEET\n",
      "Column  17 : YEAR BUILT\n",
      "Column  18 : TAX CLASS AT TIME OF SALE\n",
      "Column  19 : BUILDING CLASS AT TIME OF SALE\n",
      "Column  20 : SALE PRICE\n",
      "Column  21 : SALE DATE\n"
     ]
    }
   ],
   "source": [
    "#Checking the name of columns\n",
    "s=1\n",
    "for i in df.columns:\n",
    "    print('Column ',s,':',i)\n",
    "    s+=1"
   ]
  },
  {
   "cell_type": "code",
   "execution_count": 10,
   "id": "9e4e922d",
   "metadata": {},
   "outputs": [
    {
     "name": "stdout",
     "output_type": "stream",
     "text": [
      "Dimensions= (84548, 21)\n"
     ]
    }
   ],
   "source": [
    "#Dimensions of the dataframe\n",
    "print('Dimensions=',df.shape)"
   ]
  },
  {
   "cell_type": "markdown",
   "id": "c61b6202",
   "metadata": {},
   "source": [
    "### This presentation is about properties in New York City"
   ]
  },
  {
   "cell_type": "markdown",
   "id": "251e991a",
   "metadata": {},
   "source": [
    "### This study shows you the different conditions of properties in New York City including: Borough, Area, Total units, Year Built, Price ...."
   ]
  },
  {
   "cell_type": "code",
   "execution_count": 19,
   "id": "ed28a583",
   "metadata": {},
   "outputs": [
    {
     "name": "stdout",
     "output_type": "stream",
     "text": [
      "Manhattan  :     1\n",
      "Bronx  :     2\n",
      "Brooklyn  :     3\n",
      "Queens  :     4\n",
      "Staten Island  :     5\n"
     ]
    }
   ],
   "source": [
    "#ID number of each borough\n",
    "Boroughs=['Manhattan', 'Bronx', 'Brooklyn', 'Queens', 'Staten Island']\n",
    "s=1\n",
    "for i in Boroughs:\n",
    "    print(i,' :    ',s)\n",
    "    s+=1"
   ]
  },
  {
   "cell_type": "code",
   "execution_count": 31,
   "id": "e41e6a13",
   "metadata": {},
   "outputs": [],
   "source": [
    "df['BR_City']=df['BOROUGH']"
   ]
  },
  {
   "cell_type": "code",
   "execution_count": 35,
   "id": "5f52e0e3",
   "metadata": {},
   "outputs": [],
   "source": [
    "#Changing the borough number to the name\n",
    "for i in df.index:\n",
    "    if df['BR_City'].iloc[i]==1:\n",
    "        df['BR_City'].iloc[i]=\"Manhattan\"\n",
    "    if df['BR_City'].iloc[i]==2:\n",
    "        df['BR_City'].iloc[i]=\"Bronx\"\n",
    "    if df['BR_City'].iloc[i]==3:\n",
    "        df['BR_City'].iloc[i]=\"Brooklyn\"\n",
    "    if df['BR_City'].iloc[i]==4:\n",
    "        df['BR_City'].iloc[i]=\"Queens\"\n",
    "    if df['BR_City'].iloc[i]==5:\n",
    "        df['BR_City'].iloc[i]=\"Staten Island\""
   ]
  },
  {
   "cell_type": "code",
   "execution_count": 38,
   "id": "ca2ca6b6",
   "metadata": {},
   "outputs": [
    {
     "data": {
      "image/png": "[encoded data removed]",
      "text/plain": [
       "<Figure size 576x360 with 1 Axes>"
      ]
     },
     "metadata": {},
     "output_type": "display_data"
    }
   ],
   "source": [
    "#Showing the number of buildings for each borough\n",
    "sns.set()\n",
    "plt.figure(figsize=(8,5))\n",
    "sns.histplot(df['BR_City'])\n",
    "plt.xlabel('Boroughs')\n",
    "plt.ylabel('Number of buildings')\n",
    "plt.show()"
   ]
  },
  {
   "cell_type": "code",
   "execution_count": 147,
   "id": "f3e7bff1",
   "metadata": {},
   "outputs": [
    {
     "data": {
      "text/html": [
       "<div>\n",
       "<style scoped>\n",
       "    .dataframe tbody tr th:only-of-type {\n",
       "        vertical-align: middle;\n",
       "    }\n",
       "\n",
       "    .dataframe tbody tr th {\n",
       "        vertical-align: top;\n",
       "    }\n",
       "\n",
       "    .dataframe thead th {\n",
       "        text-align: right;\n",
       "    }\n",
       "</style>\n",
       "<table border=\"1\" class=\"dataframe\">\n",
       "  <thead>\n",
       "    <tr style=\"text-align: right;\">\n",
       "      <th></th>\n",
       "      <th>BOROUGH</th>\n",
       "      <th>NEIGHBORHOOD</th>\n",
       "      <th>BUILDING CLASS CATEGORY</th>\n",
       "      <th>TAX CLASS AT PRESENT</th>\n",
       "      <th>BLOCK</th>\n",
       "      <th>LOT</th>\n",
       "      <th>EASE-MENT</th>\n",
       "      <th>BUILDING CLASS AT PRESENT</th>\n",
       "      <th>ADDRESS</th>\n",
       "      <th>APARTMENT NUMBER</th>\n",
       "      <th>...</th>\n",
       "      <th>COMMERCIAL UNITS</th>\n",
       "      <th>TOTAL UNITS</th>\n",
       "      <th>LAND SQUARE FEET</th>\n",
       "      <th>GROSS SQUARE FEET</th>\n",
       "      <th>YEAR BUILT</th>\n",
       "      <th>TAX CLASS AT TIME OF SALE</th>\n",
       "      <th>BUILDING CLASS AT TIME OF SALE</th>\n",
       "      <th>SALE PRICE</th>\n",
       "      <th>SALE DATE</th>\n",
       "      <th>BR_City</th>\n",
       "    </tr>\n",
       "  </thead>\n",
       "  <tbody>\n",
       "    <tr>\n",
       "      <th>0</th>\n",
       "      <td>1</td>\n",
       "      <td>ALPHABET CITY</td>\n",
       "      <td>07 RENTALS - WALKUP APARTMENTS</td>\n",
       "      <td>2A</td>\n",
       "      <td>392</td>\n",
       "      <td>6</td>\n",
       "      <td></td>\n",
       "      <td>C2</td>\n",
       "      <td>153 AVENUE B</td>\n",
       "      <td></td>\n",
       "      <td>...</td>\n",
       "      <td>0</td>\n",
       "      <td>5</td>\n",
       "      <td>1633</td>\n",
       "      <td>6440</td>\n",
       "      <td>1900</td>\n",
       "      <td>2</td>\n",
       "      <td>C2</td>\n",
       "      <td>6625000</td>\n",
       "      <td>2017-07-19 00:00:00</td>\n",
       "      <td>Manhattan</td>\n",
       "    </tr>\n",
       "    <tr>\n",
       "      <th>1</th>\n",
       "      <td>1</td>\n",
       "      <td>ALPHABET CITY</td>\n",
       "      <td>07 RENTALS - WALKUP APARTMENTS</td>\n",
       "      <td>2</td>\n",
       "      <td>399</td>\n",
       "      <td>26</td>\n",
       "      <td></td>\n",
       "      <td>C7</td>\n",
       "      <td>234 EAST 4TH   STREET</td>\n",
       "      <td></td>\n",
       "      <td>...</td>\n",
       "      <td>3</td>\n",
       "      <td>31</td>\n",
       "      <td>4616</td>\n",
       "      <td>18690</td>\n",
       "      <td>1900</td>\n",
       "      <td>2</td>\n",
       "      <td>C7</td>\n",
       "      <td>-</td>\n",
       "      <td>2016-12-14 00:00:00</td>\n",
       "      <td>Manhattan</td>\n",
       "    </tr>\n",
       "    <tr>\n",
       "      <th>2</th>\n",
       "      <td>1</td>\n",
       "      <td>ALPHABET CITY</td>\n",
       "      <td>07 RENTALS - WALKUP APARTMENTS</td>\n",
       "      <td>2</td>\n",
       "      <td>399</td>\n",
       "      <td>39</td>\n",
       "      <td></td>\n",
       "      <td>C7</td>\n",
       "      <td>197 EAST 3RD   STREET</td>\n",
       "      <td></td>\n",
       "      <td>...</td>\n",
       "      <td>1</td>\n",
       "      <td>17</td>\n",
       "      <td>2212</td>\n",
       "      <td>7803</td>\n",
       "      <td>1900</td>\n",
       "      <td>2</td>\n",
       "      <td>C7</td>\n",
       "      <td>-</td>\n",
       "      <td>2016-12-09 00:00:00</td>\n",
       "      <td>Manhattan</td>\n",
       "    </tr>\n",
       "    <tr>\n",
       "      <th>3</th>\n",
       "      <td>1</td>\n",
       "      <td>ALPHABET CITY</td>\n",
       "      <td>07 RENTALS - WALKUP APARTMENTS</td>\n",
       "      <td>2B</td>\n",
       "      <td>402</td>\n",
       "      <td>21</td>\n",
       "      <td></td>\n",
       "      <td>C4</td>\n",
       "      <td>154 EAST 7TH STREET</td>\n",
       "      <td></td>\n",
       "      <td>...</td>\n",
       "      <td>0</td>\n",
       "      <td>10</td>\n",
       "      <td>2272</td>\n",
       "      <td>6794</td>\n",
       "      <td>1913</td>\n",
       "      <td>2</td>\n",
       "      <td>C4</td>\n",
       "      <td>3936272</td>\n",
       "      <td>2016-09-23 00:00:00</td>\n",
       "      <td>Manhattan</td>\n",
       "    </tr>\n",
       "    <tr>\n",
       "      <th>4</th>\n",
       "      <td>1</td>\n",
       "      <td>ALPHABET CITY</td>\n",
       "      <td>07 RENTALS - WALKUP APARTMENTS</td>\n",
       "      <td>2A</td>\n",
       "      <td>404</td>\n",
       "      <td>55</td>\n",
       "      <td></td>\n",
       "      <td>C2</td>\n",
       "      <td>301 EAST 10TH   STREET</td>\n",
       "      <td></td>\n",
       "      <td>...</td>\n",
       "      <td>0</td>\n",
       "      <td>6</td>\n",
       "      <td>2369</td>\n",
       "      <td>4615</td>\n",
       "      <td>1900</td>\n",
       "      <td>2</td>\n",
       "      <td>C2</td>\n",
       "      <td>8000000</td>\n",
       "      <td>2016-11-17 00:00:00</td>\n",
       "      <td>Manhattan</td>\n",
       "    </tr>\n",
       "  </tbody>\n",
       "</table>\n",
       "<p>5 rows × 22 columns</p>\n",
       "</div>"
      ],
      "text/plain": [
       "   BOROUGH   NEIGHBORHOOD                      BUILDING CLASS CATEGORY  \\\n",
       "0        1  ALPHABET CITY  07 RENTALS - WALKUP APARTMENTS                \n",
       "1        1  ALPHABET CITY  07 RENTALS - WALKUP APARTMENTS                \n",
       "2        1  ALPHABET CITY  07 RENTALS - WALKUP APARTMENTS                \n",
       "3        1  ALPHABET CITY  07 RENTALS - WALKUP APARTMENTS                \n",
       "4        1  ALPHABET CITY  07 RENTALS - WALKUP APARTMENTS                \n",
       "\n",
       "  TAX CLASS AT PRESENT  BLOCK  LOT EASE-MENT BUILDING CLASS AT PRESENT  \\\n",
       "0                   2A    392    6                                  C2   \n",
       "1                    2    399   26                                  C7   \n",
       "2                    2    399   39                                  C7   \n",
       "3                   2B    402   21                                  C4   \n",
       "4                   2A    404   55                                  C2   \n",
       "\n",
       "                  ADDRESS APARTMENT NUMBER  ...  COMMERCIAL UNITS  \\\n",
       "0            153 AVENUE B                   ...                 0   \n",
       "1   234 EAST 4TH   STREET                   ...                 3   \n",
       "2   197 EAST 3RD   STREET                   ...                 1   \n",
       "3     154 EAST 7TH STREET                   ...                 0   \n",
       "4  301 EAST 10TH   STREET                   ...                 0   \n",
       "\n",
       "   TOTAL UNITS  LAND SQUARE FEET  GROSS SQUARE FEET YEAR BUILT  \\\n",
       "0            5              1633               6440       1900   \n",
       "1           31              4616              18690       1900   \n",
       "2           17              2212               7803       1900   \n",
       "3           10              2272               6794       1913   \n",
       "4            6              2369               4615       1900   \n",
       "\n",
       "  TAX CLASS AT TIME OF SALE  BUILDING CLASS AT TIME OF SALE  SALE PRICE  \\\n",
       "0                         2                              C2     6625000   \n",
       "1                         2                              C7         -     \n",
       "2                         2                              C7         -     \n",
       "3                         2                              C4     3936272   \n",
       "4                         2                              C2     8000000   \n",
       "\n",
       "             SALE DATE    BR_City  \n",
       "0  2017-07-19 00:00:00  Manhattan  \n",
       "1  2016-12-14 00:00:00  Manhattan  \n",
       "2  2016-12-09 00:00:00  Manhattan  \n",
       "3  2016-09-23 00:00:00  Manhattan  \n",
       "4  2016-11-17 00:00:00  Manhattan  \n",
       "\n",
       "[5 rows x 22 columns]"
      ]
     },
     "execution_count": 147,
     "metadata": {},
     "output_type": "execute_result"
    }
   ],
   "source": [
    "df.head()"
   ]
  },
  {
   "cell_type": "markdown",
   "id": "d11cf080",
   "metadata": {},
   "source": [
    "### Borough of Queens has maximum number of buidings in the market"
   ]
  },
  {
   "cell_type": "code",
   "execution_count": 50,
   "id": "3396f39a",
   "metadata": {},
   "outputs": [],
   "source": [
    "df_CM=df[df['BR_City']=='Manhattan'][['BR_City','BUILDING CLASS AT TIME OF SALE']]\n",
    "df_CBRONX=df[df['BR_City']=='Bronx'][['BR_City','BUILDING CLASS AT TIME OF SALE']]\n",
    "df_CBROOKLYN=df[df['BR_City']=='Brooklyn'][['BR_City','BUILDING CLASS AT TIME OF SALE']]\n",
    "df_CQ=df[df['BR_City']=='Queens'][['BR_City','BUILDING CLASS AT TIME OF SALE']]\n",
    "df_CS=df[df['BR_City']=='Staten Island'][['BR_City','BUILDING CLASS AT TIME OF SALE']]"
   ]
  },
  {
   "cell_type": "code",
   "execution_count": 65,
   "id": "60314e7e",
   "metadata": {},
   "outputs": [
    {
     "data": {
      "text/plain": [
       "BR_City    BUILDING CLASS AT TIME OF SALE\n",
       "Manhattan  R4                                7501\n",
       "           D4                                5724\n",
       "           R9                                 963\n",
       "           C6                                 813\n",
       "           R1                                 259\n",
       "           RB                                 248\n",
       "           D0                                 228\n",
       "           RS                                 219\n",
       "           RH                                 209\n",
       "           C7                                 189\n",
       "           C1                                 166\n",
       "           C4                                 147\n",
       "           C5                                 111\n",
       "           R2                                  90\n",
       "           V1                                  84\n",
       "           RK                                  82\n",
       "           C0                                  80\n",
       "           H3                                  79\n",
       "           A4                                  73\n",
       "           C3                                  59\n",
       "dtype: int64"
      ]
     },
     "execution_count": 65,
     "metadata": {},
     "output_type": "execute_result"
    }
   ],
   "source": [
    "df_CM.value_counts().head(20)"
   ]
  },
  {
   "cell_type": "code",
   "execution_count": 90,
   "id": "dbeaded3",
   "metadata": {},
   "outputs": [],
   "source": [
    "df_CM_selected=df_CM[(df_CM['BUILDING CLASS AT TIME OF SALE']=='R4')|(df_CM['BUILDING CLASS AT TIME OF SALE']=='D4')|(df_CM['BUILDING CLASS AT TIME OF SALE']=='R9')|\n",
    "      (df_CM['BUILDING CLASS AT TIME OF SALE']=='C6')|(df_CM['BUILDING CLASS AT TIME OF SALE']=='R1')|(df_CM['BUILDING CLASS AT TIME OF SALE']=='RB')|\n",
    "                                                                                                        (df_CM['BUILDING CLASS AT TIME OF SALE']=='D0')|\n",
    "      (df_CM['BUILDING CLASS AT TIME OF SALE']=='RS')|(df_CM['BUILDING CLASS AT TIME OF SALE']=='RH')|\n",
    "      (df_CM['BUILDING CLASS AT TIME OF SALE']=='C7')|(df_CM['BUILDING CLASS AT TIME OF SALE']=='C1')|(\n",
    "          df_CM['BUILDING CLASS AT TIME OF SALE']=='C4')|(df_CM['BUILDING CLASS AT TIME OF SALE']=='C5')|\n",
    "      (df_CM['BUILDING CLASS AT TIME OF SALE']=='R2')|(df_CM['BUILDING CLASS AT TIME OF SALE']=='V1')|\n",
    "      (df_CM['BUILDING CLASS AT TIME OF SALE']=='RK')|(df_CM['BUILDING CLASS AT TIME OF SALE']=='C0')|\n",
    "      (df_CM['BUILDING CLASS AT TIME OF SALE']=='H3')|(df_CM['BUILDING CLASS AT TIME OF SALE']=='A4')|\n",
    "      (df_CM['BUILDING CLASS AT TIME OF SALE']=='C3')]"
   ]
  },
  {
   "cell_type": "code",
   "execution_count": 91,
   "id": "b823887c",
   "metadata": {},
   "outputs": [
    {
     "data": {
      "text/plain": [
       "BR_City  BUILDING CLASS AT TIME OF SALE\n",
       "Bronx    D4                                996\n",
       "         B1                                891\n",
       "         C0                                747\n",
       "         A5                                549\n",
       "         B2                                536\n",
       "         A1                                505\n",
       "         R4                                440\n",
       "         B3                                325\n",
       "         V0                                234\n",
       "         A2                                202\n",
       "         C1                                178\n",
       "         C3                                150\n",
       "         R3                                117\n",
       "         B9                                110\n",
       "         K1                                 68\n",
       "         C6                                 67\n",
       "         C7                                 65\n",
       "         G7                                 56\n",
       "         C2                                 53\n",
       "         V1                                 51\n",
       "dtype: int64"
      ]
     },
     "execution_count": 91,
     "metadata": {},
     "output_type": "execute_result"
    }
   ],
   "source": [
    "df_CBRONX.value_counts().head(20)"
   ]
  },
  {
   "cell_type": "code",
   "execution_count": 92,
   "id": "078f63b9",
   "metadata": {},
   "outputs": [],
   "source": [
    "df_CBRONX_selected=df_CBRONX[(df_CBRONX['BUILDING CLASS AT TIME OF SALE']=='D4')|(df_CBRONX['BUILDING CLASS AT TIME OF SALE']=='B1')|(df_CBRONX['BUILDING CLASS AT TIME OF SALE']=='C0')|\n",
    "      (df_CBRONX['BUILDING CLASS AT TIME OF SALE']=='A5')|(df_CBRONX['BUILDING CLASS AT TIME OF SALE']=='B2')|(df_CBRONX['BUILDING CLASS AT TIME OF SALE']=='A1')|\n",
    "                                                                                                        (df_CBRONX['BUILDING CLASS AT TIME OF SALE']=='R4')|\n",
    "      (df_CBRONX['BUILDING CLASS AT TIME OF SALE']=='B3')|(df_CBRONX['BUILDING CLASS AT TIME OF SALE']=='V0')|\n",
    "      (df_CBRONX['BUILDING CLASS AT TIME OF SALE']=='A2')|(df_CBRONX['BUILDING CLASS AT TIME OF SALE']=='C1')|(\n",
    "          df_CBRONX['BUILDING CLASS AT TIME OF SALE']=='C3')|(df_CBRONX['BUILDING CLASS AT TIME OF SALE']=='R3')|\n",
    "      (df_CBRONX['BUILDING CLASS AT TIME OF SALE']=='B9')|(df_CBRONX['BUILDING CLASS AT TIME OF SALE']=='K1')|\n",
    "      (df_CBRONX['BUILDING CLASS AT TIME OF SALE']=='C6')|(df_CBRONX['BUILDING CLASS AT TIME OF SALE']=='C7')|\n",
    "      (df_CBRONX['BUILDING CLASS AT TIME OF SALE']=='G7')|(df_CBRONX['BUILDING CLASS AT TIME OF SALE']=='C2')|\n",
    "      (df_CBRONX['BUILDING CLASS AT TIME OF SALE']=='V1')]"
   ]
  },
  {
   "cell_type": "code",
   "execution_count": 94,
   "id": "2b520a7f",
   "metadata": {},
   "outputs": [
    {
     "data": {
      "text/plain": [
       "BR_City   BUILDING CLASS AT TIME OF SALE\n",
       "Brooklyn  R4                                2817\n",
       "          B1                                2267\n",
       "          C0                                2175\n",
       "          D4                                2155\n",
       "          B3                                1274\n",
       "          B2                                1179\n",
       "          A5                                1170\n",
       "          R1                                 956\n",
       "          A1                                 880\n",
       "          B9                                 857\n",
       "          A9                                 831\n",
       "          C3                                 634\n",
       "          RG                                 554\n",
       "          C6                                 534\n",
       "          C2                                 468\n",
       "          S2                                 463\n",
       "          R3                                 437\n",
       "          R2                                 424\n",
       "          C1                                 387\n",
       "          V0                                 281\n",
       "dtype: int64"
      ]
     },
     "execution_count": 94,
     "metadata": {},
     "output_type": "execute_result"
    }
   ],
   "source": [
    "df_CBROOKLYN.value_counts().head(20)"
   ]
  },
  {
   "cell_type": "code",
   "execution_count": 95,
   "id": "3824dd32",
   "metadata": {},
   "outputs": [],
   "source": [
    "df_CBROOKLYN_selected=df_CBROOKLYN[(df_CBROOKLYN['BUILDING CLASS AT TIME OF SALE']=='R4')|(df_CBROOKLYN['BUILDING CLASS AT TIME OF SALE']=='B1')|(df_CBROOKLYN['BUILDING CLASS AT TIME OF SALE']=='C0')|\n",
    "      (df_CBROOKLYN['BUILDING CLASS AT TIME OF SALE']=='D4')|(df_CBROOKLYN['BUILDING CLASS AT TIME OF SALE']=='B3')|(df_CBROOKLYN['BUILDING CLASS AT TIME OF SALE']=='B2')|\n",
    "                                                                                                        (df_CBROOKLYN['BUILDING CLASS AT TIME OF SALE']=='A5')|\n",
    "      (df_CBROOKLYN['BUILDING CLASS AT TIME OF SALE']=='R1')|(df_CBROOKLYN['BUILDING CLASS AT TIME OF SALE']=='A1')|\n",
    "      (df_CBROOKLYN['BUILDING CLASS AT TIME OF SALE']=='B9')|(df_CBROOKLYN['BUILDING CLASS AT TIME OF SALE']=='A9')|(\n",
    "          df_CBROOKLYN['BUILDING CLASS AT TIME OF SALE']=='C3')|(df_CBROOKLYN['BUILDING CLASS AT TIME OF SALE']=='RG')|\n",
    "      (df_CBROOKLYN['BUILDING CLASS AT TIME OF SALE']=='C6')|(df_CBROOKLYN['BUILDING CLASS AT TIME OF SALE']=='C2')|\n",
    "      (df_CBROOKLYN['BUILDING CLASS AT TIME OF SALE']=='S2')|(df_CBROOKLYN['BUILDING CLASS AT TIME OF SALE']=='R3')|\n",
    "      (df_CBROOKLYN['BUILDING CLASS AT TIME OF SALE']=='R2')|(df_CBROOKLYN['BUILDING CLASS AT TIME OF SALE']=='C1')|\n",
    "      (df_CBROOKLYN['BUILDING CLASS AT TIME OF SALE']=='V0')]"
   ]
  },
  {
   "cell_type": "code",
   "execution_count": 97,
   "id": "743783eb",
   "metadata": {},
   "outputs": [
    {
     "data": {
      "text/plain": [
       "BR_City  BUILDING CLASS AT TIME OF SALE\n",
       "Queens   A1                                4067\n",
       "         D4                                3742\n",
       "         R4                                2063\n",
       "         B3                                2012\n",
       "         A5                                1990\n",
       "         B2                                1932\n",
       "         A2                                1570\n",
       "         B1                                1455\n",
       "         C0                                1317\n",
       "         C6                                1290\n",
       "         RG                                 484\n",
       "         V0                                 397\n",
       "         A0                                 384\n",
       "         R3                                 383\n",
       "         C2                                 260\n",
       "         A9                                 241\n",
       "         S2                                 235\n",
       "         R2                                 232\n",
       "         C3                                 226\n",
       "         R9                                 204\n",
       "dtype: int64"
      ]
     },
     "execution_count": 97,
     "metadata": {},
     "output_type": "execute_result"
    }
   ],
   "source": [
    "df_CQ.value_counts().head(20)"
   ]
  },
  {
   "cell_type": "code",
   "execution_count": 100,
   "id": "6205f4f7",
   "metadata": {},
   "outputs": [],
   "source": [
    "df_CQ_selected=df_CQ[(df_CQ['BUILDING CLASS AT TIME OF SALE']=='A1')|(df_CQ['BUILDING CLASS AT TIME OF SALE']=='D4')|(df_CQ['BUILDING CLASS AT TIME OF SALE']=='R4')|\n",
    "      (df_CQ['BUILDING CLASS AT TIME OF SALE']=='B3')|(df_CQ['BUILDING CLASS AT TIME OF SALE']=='A5')|(df_CQ['BUILDING CLASS AT TIME OF SALE']=='B2')|\n",
    "                                                                                                        (df_CQ['BUILDING CLASS AT TIME OF SALE']=='A2')|\n",
    "      (df_CQ['BUILDING CLASS AT TIME OF SALE']=='B1')|(df_CQ['BUILDING CLASS AT TIME OF SALE']=='C0')|\n",
    "      (df_CQ['BUILDING CLASS AT TIME OF SALE']=='C6')|(df_CQ['BUILDING CLASS AT TIME OF SALE']=='RG')|(\n",
    "          df_CQ['BUILDING CLASS AT TIME OF SALE']=='V0')|(df_CQ['BUILDING CLASS AT TIME OF SALE']=='A0')|\n",
    "      (df_CQ['BUILDING CLASS AT TIME OF SALE']=='R3')|(df_CQ['BUILDING CLASS AT TIME OF SALE']=='C2')|\n",
    "      (df_CQ['BUILDING CLASS AT TIME OF SALE']=='A9')|(df_CQ['BUILDING CLASS AT TIME OF SALE']=='S2')|\n",
    "      (df_CQ['BUILDING CLASS AT TIME OF SALE']=='R2')|(df_CQ['BUILDING CLASS AT TIME OF SALE']=='C3')|\n",
    "      (df_CQ['BUILDING CLASS AT TIME OF SALE']=='R9')]"
   ]
  },
  {
   "cell_type": "code",
   "execution_count": 103,
   "id": "70f651bf",
   "metadata": {},
   "outputs": [
    {
     "data": {
      "text/plain": [
       "BR_City        BUILDING CLASS AT TIME OF SALE\n",
       "Staten Island  A5                                1949\n",
       "               A1                                1299\n",
       "               B2                                1268\n",
       "               A2                                 879\n",
       "               R3                                 511\n",
       "               B9                                 378\n",
       "               V0                                 324\n",
       "               A9                                 275\n",
       "               B3                                 175\n",
       "               R4                                 168\n",
       "               R2                                 144\n",
       "               A3                                 131\n",
       "               B1                                  97\n",
       "               V1                                  89\n",
       "               A6                                  74\n",
       "               C0                                  65\n",
       "               C6                                  56\n",
       "               D4                                  49\n",
       "               A0                                  44\n",
       "               K1                                  38\n",
       "dtype: int64"
      ]
     },
     "execution_count": 103,
     "metadata": {},
     "output_type": "execute_result"
    }
   ],
   "source": [
    "df_CS.value_counts().head(20)"
   ]
  },
  {
   "cell_type": "code",
   "execution_count": 108,
   "id": "2cac1ca0",
   "metadata": {},
   "outputs": [],
   "source": [
    "df_CS_selected=df_CS[(df_CS['BUILDING CLASS AT TIME OF SALE']=='A5')|(df_CS['BUILDING CLASS AT TIME OF SALE']=='A1')|(df_CS['BUILDING CLASS AT TIME OF SALE']=='B2')|\n",
    "      (df_CS['BUILDING CLASS AT TIME OF SALE']=='A2')|(df_CS['BUILDING CLASS AT TIME OF SALE']=='R3')|(df_CS['BUILDING CLASS AT TIME OF SALE']=='B9')|\n",
    "                                                                                                        (df_CS['BUILDING CLASS AT TIME OF SALE']=='V0')|\n",
    "      (df_CS['BUILDING CLASS AT TIME OF SALE']=='A9')|(df_CS['BUILDING CLASS AT TIME OF SALE']=='B3')|\n",
    "      (df_CS['BUILDING CLASS AT TIME OF SALE']=='R4')|(df_CS['BUILDING CLASS AT TIME OF SALE']=='R2')|\n",
    "          (df_CS['BUILDING CLASS AT TIME OF SALE']=='A3')|(df_CS['BUILDING CLASS AT TIME OF SALE']=='B1')|\n",
    "      (df_CS['BUILDING CLASS AT TIME OF SALE']=='V1')|(df_CS['BUILDING CLASS AT TIME OF SALE']=='C6')|\n",
    "      (df_CS['BUILDING CLASS AT TIME OF SALE']=='C0')|(df_CS['BUILDING CLASS AT TIME OF SALE']=='S2')|\n",
    "      (df_CS['BUILDING CLASS AT TIME OF SALE']=='D4')|(df_CS['BUILDING CLASS AT TIME OF SALE']=='A0')|\n",
    "      (df_CS['BUILDING CLASS AT TIME OF SALE']=='K1')]"
   ]
  },
  {
   "cell_type": "code",
   "execution_count": 146,
   "id": "3c09f813",
   "metadata": {},
   "outputs": [
    {
     "data": {
      "image/png": "[encoded data removed]",
      "text/plain": [
       "<Figure size 1080x1008 with 6 Axes>"
      ]
     },
     "metadata": {},
     "output_type": "display_data"
    }
   ],
   "source": [
    "fig,ax=plt.subplots(3,2,figsize=(15,14))\n",
    "ax[0,0].hist(df_CM_selected['BUILDING CLASS AT TIME OF SALE'])\n",
    "ax[0,0].set_xlabel('Building class type for Manhattan')\n",
    "ax[0,0].set_ylabel('Number of buildings')\n",
    "ax[0,1].hist(df_CBRONX_selected['BUILDING CLASS AT TIME OF SALE'])\n",
    "ax[0,1].set_xlabel('Building class type for Bronx')\n",
    "ax[0,1].set_ylabel('Number of buildings')\n",
    "ax[1,0].hist(df_CBROOKLYN_selected['BUILDING CLASS AT TIME OF SALE'])\n",
    "ax[1,0].set_xlabel('Building class type for Brooklyn')\n",
    "ax[1,0].set_ylabel('Number of buildings')\n",
    "ax[1,1].hist(df_CQ_selected['BUILDING CLASS AT TIME OF SALE'])\n",
    "ax[1,1].set_xlabel('Building class type for Queens')\n",
    "ax[1,1].set_ylabel('Number of buildings')\n",
    "ax[2,0].hist(df_CS_selected['BUILDING CLASS AT TIME OF SALE'])\n",
    "ax[2,0].set_xlabel('Building class type for Staten Island')\n",
    "ax[2,0].set_ylabel('Number of buildings')\n",
    "plt.show()"
   ]
  },
  {
   "cell_type": "markdown",
   "id": "07f71376",
   "metadata": {},
   "source": [
    "### It is observed that there is a list based on the bar charts:"
   ]
  },
  {
   "cell_type": "markdown",
   "id": "8f11794d",
   "metadata": {},
   "source": [
    "### Most popular type for each borough:"
   ]
  },
  {
   "cell_type": "markdown",
   "id": "aca884f9",
   "metadata": {},
   "source": [
    "### Manhattan: D4"
   ]
  },
  {
   "cell_type": "markdown",
   "id": "f373a7e6",
   "metadata": {},
   "source": [
    "### Bronx: A1"
   ]
  },
  {
   "cell_type": "markdown",
   "id": "c45a692f",
   "metadata": {},
   "source": [
    "### Brooklyn: R1"
   ]
  },
  {
   "cell_type": "markdown",
   "id": "032d5aea",
   "metadata": {},
   "source": [
    "### Queens: C2"
   ]
  },
  {
   "cell_type": "markdown",
   "id": "29a1a962",
   "metadata": {},
   "source": [
    "### Staten Island: A5"
   ]
  },
  {
   "cell_type": "code",
   "execution_count": 188,
   "id": "93deec74",
   "metadata": {},
   "outputs": [],
   "source": [
    "#Subsetting for some scpecific columns\n",
    "df_CM_Units=df[df['BR_City']=='Manhattan'][['BR_City','GROSS SQUARE FEET','TOTAL UNITS','GROSS SQUARE FEET','SALE PRICE']]\n",
    "df_CBRONX_Units=df[df['BR_City']=='Bronx'][['BR_City','GROSS SQUARE FEET','TOTAL UNITS','GROSS SQUARE FEET','SALE PRICE']]\n",
    "df_CBROOKLYN_Units=df[df['BR_City']=='Brooklyn'][['BR_City','GROSS SQUARE FEET','TOTAL UNITS','GROSS SQUARE FEET','SALE PRICE']]\n",
    "df_CQ_Units=df[df['BR_City']=='Queens'][['BR_City','GROSS SQUARE FEET','TOTAL UNITS','GROSS SQUARE FEET','SALE PRICE']]\n",
    "df_CS_Units=df[df['BR_City']=='Staten Island'][['BR_City','GROSS SQUARE FEET','TOTAL UNITS','BUILDING CLASS AT TIME OF SALE']]"
   ]
  },
  {
   "cell_type": "markdown",
   "id": "b7bd3586",
   "metadata": {},
   "source": [
    "### Total units of popular buildings for each borough"
   ]
  },
  {
   "cell_type": "code",
   "execution_count": 181,
   "id": "c94a5371",
   "metadata": {},
   "outputs": [
    {
     "name": "stdout",
     "output_type": "stream",
     "text": [
      "Manhattan:  1653\n"
     ]
    }
   ],
   "source": [
    "print('Manhattan: ',df_CM_Units['TOTAL UNITS'].max())"
   ]
  },
  {
   "cell_type": "code",
   "execution_count": 182,
   "id": "22772042",
   "metadata": {},
   "outputs": [
    {
     "name": "stdout",
     "output_type": "stream",
     "text": [
      "Bronx:  955\n"
     ]
    }
   ],
   "source": [
    "print('Bronx: ',df_CBRONX_Units['TOTAL UNITS'].max())"
   ]
  },
  {
   "cell_type": "code",
   "execution_count": 183,
   "id": "e2ab77bd",
   "metadata": {},
   "outputs": [
    {
     "name": "stdout",
     "output_type": "stream",
     "text": [
      "Brooklyn:  889\n"
     ]
    }
   ],
   "source": [
    "print('Brooklyn: ',df_CBROOKLYN_Units['TOTAL UNITS'].max())"
   ]
  },
  {
   "cell_type": "code",
   "execution_count": 184,
   "id": "46d1bb44",
   "metadata": {},
   "outputs": [
    {
     "name": "stdout",
     "output_type": "stream",
     "text": [
      "Queens:  2261\n"
     ]
    }
   ],
   "source": [
    "print('Queens: ',df_CQ_Units['TOTAL UNITS'].max())"
   ]
  },
  {
   "cell_type": "code",
   "execution_count": 185,
   "id": "3a808237",
   "metadata": {},
   "outputs": [
    {
     "name": "stdout",
     "output_type": "stream",
     "text": [
      "Staten Island:  143\n"
     ]
    }
   ],
   "source": [
    "print('Staten Island: ',df_CS_Units['TOTAL UNITS'].max())"
   ]
  },
  {
   "cell_type": "markdown",
   "id": "68034196",
   "metadata": {},
   "source": [
    "### Maximum gross square feet for each borough"
   ]
  },
  {
   "cell_type": "code",
   "execution_count": 195,
   "id": "5b4aeb68",
   "metadata": {},
   "outputs": [
    {
     "name": "stdout",
     "output_type": "stream",
     "text": [
      "Manhattan:  GROSS SQUARE FEET    9992\n",
      "GROSS SQUARE FEET    9992\n",
      "dtype: object\n"
     ]
    }
   ],
   "source": [
    "print('Manhattan: ',df_CM_Units['GROSS SQUARE FEET'].max())"
   ]
  },
  {
   "cell_type": "code",
   "execution_count": 190,
   "id": "fab740cd",
   "metadata": {},
   "outputs": [
    {
     "name": "stdout",
     "output_type": "stream",
     "text": [
      "Bronx:  GROSS SQUARE FEET    997\n",
      "GROSS SQUARE FEET    997\n",
      "dtype: object\n"
     ]
    }
   ],
   "source": [
    "print('Bronx: ',df_CBRONX_Units['GROSS SQUARE FEET'].max())"
   ]
  },
  {
   "cell_type": "code",
   "execution_count": 191,
   "id": "718141b5",
   "metadata": {},
   "outputs": [
    {
     "name": "stdout",
     "output_type": "stream",
     "text": [
      "Brooklyn:  GROSS SQUARE FEET    9972\n",
      "GROSS SQUARE FEET    9972\n",
      "dtype: object\n"
     ]
    }
   ],
   "source": [
    "print('Brooklyn: ',df_CBROOKLYN_Units['GROSS SQUARE FEET'].max())"
   ]
  },
  {
   "cell_type": "code",
   "execution_count": 192,
   "id": "44579a35",
   "metadata": {},
   "outputs": [
    {
     "name": "stdout",
     "output_type": "stream",
     "text": [
      "Queens:  GROSS SQUARE FEET    999\n",
      "GROSS SQUARE FEET    999\n",
      "dtype: object\n"
     ]
    }
   ],
   "source": [
    "print('Queens: ',df_CQ_Units['GROSS SQUARE FEET'].max())"
   ]
  },
  {
   "cell_type": "code",
   "execution_count": 197,
   "id": "42c4ffcf",
   "metadata": {},
   "outputs": [
    {
     "name": "stdout",
     "output_type": "stream",
     "text": [
      "Staten Island:  997\n"
     ]
    }
   ],
   "source": [
    "print('Staten Island: ',df_CS_Units['GROSS SQUARE FEET'].max())"
   ]
  },
  {
   "cell_type": "markdown",
   "id": "99bb1cf5",
   "metadata": {},
   "source": [
    "### Some questions:"
   ]
  },
  {
   "cell_type": "markdown",
   "id": "b0085f36",
   "metadata": {},
   "source": [
    "### Question: Which borough is recommended for buying based on neighborhood and price?"
   ]
  },
  {
   "cell_type": "markdown",
   "id": "752b7f01",
   "metadata": {},
   "source": [
    "### Answer: Queens"
   ]
  },
  {
   "cell_type": "markdown",
   "id": "eed9f088",
   "metadata": {},
   "source": [
    "### Question: Which borough has most expensive properties?"
   ]
  },
  {
   "cell_type": "markdown",
   "id": "aff593c7",
   "metadata": {},
   "source": [
    "### Answer: Manhattan"
   ]
  },
  {
   "cell_type": "markdown",
   "id": "0ee13b53",
   "metadata": {},
   "source": [
    "### Question: If somebody wants to purchase a propery which is A class, which bouroughs are recommended?"
   ]
  },
  {
   "cell_type": "markdown",
   "id": "4f9cc163",
   "metadata": {},
   "source": [
    "### Aanswer: Brooklyn and Staten island"
   ]
  },
  {
   "cell_type": "markdown",
   "id": "a774349d",
   "metadata": {},
   "source": [
    "### Conclusion"
   ]
  },
  {
   "cell_type": "markdown",
   "id": "87b01016",
   "metadata": {},
   "source": [
    "### According to this study, the most frequently traded building is located in Queens."
   ]
  },
  {
   "cell_type": "markdown",
   "id": "9ff2735e",
   "metadata": {},
   "source": [
    "### After Queens, Brooklyn has the most frequently traded building"
   ]
  },
  {
   "cell_type": "markdown",
   "id": "ba83cb2f",
   "metadata": {},
   "source": [
    "### The top class for building is A1 and it is frequently sold in Bronx because of its price"
   ]
  },
  {
   "cell_type": "markdown",
   "id": "929d4c08",
   "metadata": {},
   "source": [
    "### A building which has maximum total units is in Manhattan"
   ]
  },
  {
   "cell_type": "code",
   "execution_count": null,
   "id": "2e01ef31",
   "metadata": {},
   "outputs": [],
   "source": []
  }
 ],
 "metadata": {
  "kernelspec": {
   "display_name": "Python 3 (ipykernel)",
   "language": "python",
   "name": "python3"
  },
  "language_info": {
   "codemirror_mode": {
    "name": "ipython",
    "version": 3
   },
   "file_extension": ".py",
   "mimetype": "text/x-python",
   "name": "python",
   "nbconvert_exporter": "python",
   "pygments_lexer": "ipython3",
   "version": "3.9.7"
  }
 },
 "nbformat": 4,
 "nbformat_minor": 5
}
